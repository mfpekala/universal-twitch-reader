{
 "cells": [
  {
   "cell_type": "code",
   "execution_count": 2,
   "metadata": {},
   "outputs": [],
   "source": [
    "\n",
    "import sys\n",
    "import os\n",
    "\n",
    "sys.path.append(\"..\")\n",
    "\n",
    "from paddleocr import PaddleOCR\n",
    "import cv2\n",
    "from torchvision import datasets, transforms\n",
    "from torch.utils.data import DataLoader\n",
    "import numpy as np\n",
    "from tqdm import tqdm\n",
    "from vid2frames import convert2frames"
   ]
  },
  {
   "cell_type": "code",
   "execution_count": 5,
   "metadata": {},
   "outputs": [],
   "source": [
    "ocr = PaddleOCR(use_angle_cls=True, lang='en', show_log = False) # need to run only once to download and load model into memory"
   ]
  },
  {
   "cell_type": "code",
   "execution_count": 3,
   "metadata": {},
   "outputs": [
    {
     "name": "stderr",
     "output_type": "stream",
     "text": [
      "100%|██████████| 578/578 [00:45<00:00, 12.73it/s]\n"
     ]
    }
   ],
   "source": [
    "# First run vid2frames on the video I'll be dugging OCR on\n",
    "\n",
    "def reset_frames(input_path: str, output_folder: str):\n",
    "    if os.path.exists(output_folder):\n",
    "        os.system(f\"rm -rf {output_folder}\")\n",
    "    if not os.path.exists(output_folder):\n",
    "        os.mkdir(output_folder)\n",
    "        os.mkdir(output_folder + \"/images\")\n",
    "    convert2frames(input_path, output_folder + \"/images\")\n"
   ]
  },
  {
   "cell_type": "code",
   "execution_count": 6,
   "metadata": {},
   "outputs": [],
   "source": [
    "def tensor_to_cv2(tens):\n",
    "    as_numpy = tens.detach().numpy()\n",
    "    as_numpy = as_numpy.swapaxes(0, 1)\n",
    "    as_numpy = as_numpy.swapaxes(1, 2)\n",
    "    as_numpy = as_numpy * 255\n",
    "    return as_numpy.astype(np.uint8)"
   ]
  },
  {
   "cell_type": "code",
   "execution_count": null,
   "metadata": {},
   "outputs": [],
   "source": [
    "def prepare_index(\n",
    "    f_loader: DataLoader,\n",
    "    out_dir: str,\n",
    "):\n",
    "    for ix, (images, labels) in tqdm(enumerate(f_loader), total=len(f_loader)):\n",
    "        rgb = tensor_to_cv2(images[0])\n",
    "        rgb = cv2.cvtColor(rgb, cv2.COLOR_BGR2RGB)\n",
    "        results = ocr.ocr(rgb, cls=True)\n",
    "        print(results)\n",
    "        "
   ]
  },
  {
   "cell_type": "code",
   "execution_count": 8,
   "metadata": {},
   "outputs": [],
   "source": [
    "def preprocess(\n",
    "    inp_file: str,\n",
    "    out_dir: str,\n",
    "    conf_threshold=0.8,\n",
    "    make_frames=True\n",
    "):\n",
    "    identifier = inp_file.split(\"/\")[-1].split(\".\")[0]\n",
    "    frame_dir = f\"../frames/{identifier}\"\n",
    "    if make_frames:\n",
    "        reset_frames(inp_file, frame_dir)\n",
    "    f_dataset = datasets.ImageFolder(root=frame_dir, transform=transforms.ToTensor())\n",
    "    f_loader = DataLoader(f_dataset, batch_size=1, shuffle=False)\n",
    "    prepare_index(f_loader, out_dir)\n",
    "\n",
    "preprocess(\"../videos/artisanal/play_ninety.mp4\", \"test\", make_frames=False)"
   ]
  },
  {
   "cell_type": "code",
   "execution_count": null,
   "metadata": {},
   "outputs": [],
   "source": []
  },
  {
   "cell_type": "code",
   "execution_count": null,
   "metadata": {},
   "outputs": [],
   "source": []
  },
  {
   "cell_type": "code",
   "execution_count": null,
   "metadata": {},
   "outputs": [],
   "source": []
  },
  {
   "cell_type": "code",
   "execution_count": null,
   "metadata": {},
   "outputs": [],
   "source": []
  },
  {
   "cell_type": "code",
   "execution_count": null,
   "metadata": {},
   "outputs": [],
   "source": []
  },
  {
   "cell_type": "code",
   "execution_count": null,
   "metadata": {},
   "outputs": [],
   "source": []
  },
  {
   "cell_type": "code",
   "execution_count": null,
   "metadata": {},
   "outputs": [],
   "source": []
  },
  {
   "cell_type": "code",
   "execution_count": null,
   "metadata": {},
   "outputs": [],
   "source": []
  }
 ],
 "metadata": {
  "kernelspec": {
   "display_name": "kino-3.9",
   "language": "python",
   "name": "python3"
  },
  "language_info": {
   "codemirror_mode": {
    "name": "ipython",
    "version": 3
   },
   "file_extension": ".py",
   "mimetype": "text/x-python",
   "name": "python",
   "nbconvert_exporter": "python",
   "pygments_lexer": "ipython3",
   "version": "3.9.16"
  },
  "orig_nbformat": 4
 },
 "nbformat": 4,
 "nbformat_minor": 2
}

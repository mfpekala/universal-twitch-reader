{
 "cells": [
  {
   "cell_type": "code",
   "execution_count": 4,
   "metadata": {},
   "outputs": [],
   "source": [
    "import sys\n",
    "\n",
    "sys.path.append(\"..\")\n",
    "\n",
    "from paddleocr import PaddleOCR\n",
    "import cv2"
   ]
  },
  {
   "cell_type": "code",
   "execution_count": 14,
   "metadata": {},
   "outputs": [],
   "source": [
    "ocr = PaddleOCR(use_angle_cls=True, lang='en', show_log = False) # need to run only once to download and load model into memory"
   ]
  },
  {
   "cell_type": "code",
   "execution_count": 22,
   "metadata": {},
   "outputs": [
    {
     "name": "stdout",
     "output_type": "stream",
     "text": [
      "[[471.0, 18.0], [520.0, 18.0], [520.0, 34.0], [471.0, 34.0]]\n",
      "('ORFE', 0.8560261130332947)\n",
      "[[149.0, 296.0], [491.0, 297.0], [491.0, 314.0], [149.0, 313.0]]\n",
      "('The lack of radiation is conspicuous.The truits', 0.9621433615684509)\n",
      "[[162.0, 319.0], [475.0, 317.0], [475.0, 334.0], [162.0, 337.0]]\n",
      "('ripen slowly and taste less sweet than usual', 0.9568237066268921)\n"
     ]
    }
   ],
   "source": [
    "# Don't bother with the dataset and the dataloader just yet\n",
    "\n",
    "def draw_basic_result(fin: str, min_conf: float = 0.95):\n",
    "    image = cv2.imread(fin)\n",
    "    results = ocr.ocr(fin, cls=True)\n",
    "    \n",
    "    for ix in range(len(results)):\n",
    "        res = results[ix]\n",
    "\n",
    "        for line in res:\n",
    "            (points, texts) = line\n",
    "            # Draw on the image\n",
    "            pt1 = (int(points[0][0]), int(points[0][1]))\n",
    "            pt2 = (int(points[2][0]), int(points[2][1]))\n",
    "            cv2.rectangle(image, pt1, pt2, (0, 255, 0), 2)\n",
    "            cv2.putText(image, texts[0], pt1, cv2.FONT_HERSHEY_SIMPLEX, 0.5, (0, 0, 255), 3)\n",
    "            print(points)\n",
    "            print(texts)\n",
    "            \n",
    "    # Save it to see quality \n",
    "    cv2.imwrite(\"temp.jpg\", image)\n",
    "\n",
    "draw_basic_result(\"../frames/play_ninety/images/f_162000.jpg\")"
   ]
  },
  {
   "cell_type": "code",
   "execution_count": null,
   "metadata": {},
   "outputs": [],
   "source": []
  }
 ],
 "metadata": {
  "kernelspec": {
   "display_name": "myenv",
   "language": "python",
   "name": "python3"
  },
  "language_info": {
   "codemirror_mode": {
    "name": "ipython",
    "version": 3
   },
   "file_extension": ".py",
   "mimetype": "text/x-python",
   "name": "python",
   "nbconvert_exporter": "python",
   "pygments_lexer": "ipython3",
   "version": "3.9.16"
  },
  "orig_nbformat": 4
 },
 "nbformat": 4,
 "nbformat_minor": 2
}
